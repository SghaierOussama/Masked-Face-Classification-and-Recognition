{
 "cells": [
  {
   "cell_type": "markdown",
   "metadata": {
    "id": "rSRCMQ2mIU4u"
   },
   "source": [
    "**Face detection** is a computer vision problem that involves finding faces in photos.In this notebook, we'll see how to develop an algorithm to detect if a person is wearinig a mask or not."
   ]
  },
  {
   "cell_type": "markdown",
   "metadata": {
    "id": "TPSB2ZzuJHJd"
   },
   "source": [
    "## **Import the reaquired libraries**"
   ]
  },
  {
   "cell_type": "code",
   "execution_count": 1,
   "metadata": {
    "id": "jnlAI1qALvXU"
   },
   "outputs": [
    {
     "name": "stderr",
     "output_type": "stream",
     "text": [
      "C:\\Users\\asus\\Anaconda3\\lib\\site-packages\\requests\\__init__.py:91: RequestsDependencyWarning: urllib3 (1.26.2) or chardet (3.0.4) doesn't match a supported version!\n",
      "  RequestsDependencyWarning)\n"
     ]
    }
   ],
   "source": [
    "from keras.optimizers import RMSprop\n",
    "from keras.preprocessing.image import ImageDataGenerator\n",
    "import cv2\n",
    "from keras.models import Sequential\n",
    "from keras.layers import Conv2D, Input, ZeroPadding2D, BatchNormalization, Activation, MaxPooling2D, Flatten, Dense,Dropout\n",
    "from keras.models import Model, load_model\n",
    "from keras.callbacks import TensorBoard, ModelCheckpoint\n",
    "from sklearn.model_selection import train_test_split\n",
    "from sklearn.metrics import f1_score\n",
    "from sklearn.utils import shuffle\n",
    "import imutils\n",
    "import numpy as np"
   ]
  },
  {
   "cell_type": "markdown",
   "metadata": {
    "id": "Dqt3hC9zJPaR"
   },
   "source": [
    "First, we need to import our data set.\n",
    "Our dataset is composed of two folders: **Train** and **Test**. Each one of them contains two directories: **with mask** and **without mask**."
   ]
  },
  {
   "cell_type": "code",
   "execution_count": null,
   "metadata": {
    "id": "mXobaD2UdCWE"
   },
   "outputs": [],
   "source": [
    "%cp -r '/content/drive/MyDrive/Computer Vision' '/content/sample_data/'"
   ]
  },
  {
   "cell_type": "markdown",
   "metadata": {
    "id": "ufMt95tUJxmd"
   },
   "source": [
    "We will do the **Preprocessing** of the pictures thanks to the command **ImageDataGenerator**."
   ]
  },
  {
   "cell_type": "code",
   "execution_count": 3,
   "metadata": {
    "colab": {
     "base_uri": "https://localhost:8080/"
    },
    "id": "hPzUynXgM6Mq",
    "outputId": "c2c0ea28-e3e0-491d-b8bb-5af972e0ab7b"
   },
   "outputs": [
    {
     "name": "stdout",
     "output_type": "stream",
     "text": [
      "Found 1315 images belonging to 2 classes.\n",
      "Found 194 images belonging to 2 classes.\n"
     ]
    }
   ],
   "source": [
    "TRAINING_DIR = \"./train1\"\n",
    "train_datagen = ImageDataGenerator(rescale=1.0/255,\n",
    "                                   rotation_range=40,\n",
    "                                   width_shift_range=0.2,\n",
    "                                   height_shift_range=0.2,\n",
    "                                   shear_range=0.2,\n",
    "                                   zoom_range=0.2,\n",
    "                                   horizontal_flip=True,\n",
    "                                   fill_mode='nearest')\n",
    "\n",
    "train_generator = train_datagen.flow_from_directory(TRAINING_DIR, \n",
    "                                                    batch_size=10, \n",
    "                                                    target_size=(150, 150))\n",
    "VALIDATION_DIR = \"./test1\"\n",
    "validation_datagen = ImageDataGenerator(rescale=1.0/255)\n",
    "\n",
    "validation_generator = validation_datagen.flow_from_directory(VALIDATION_DIR, \n",
    "                                                         batch_size=10, \n",
    "                                                         target_size=(150, 150))"
   ]
  },
  {
   "cell_type": "markdown",
   "metadata": {
    "id": "typ1JHj3J_ZY"
   },
   "source": [
    "## **MODEL**"
   ]
  },
  {
   "cell_type": "markdown",
   "metadata": {
    "id": "-EvznQPUKavb"
   },
   "source": [
    "This convolution network consists of two pairs of Conv and MaxPool layers to extract features from the dataset. Which is then followed by a Flatten and Dropout layer to convert the data in 1D and ensure overfitting.And then two Dense layers for classification."
   ]
  },
  {
   "cell_type": "code",
   "execution_count": null,
   "metadata": {
    "id": "r3_z_t2qMxJP"
   },
   "outputs": [],
   "source": [
    "model = Sequential([\n",
    "    Conv2D(100, (3,3), activation='relu', input_shape=(150, 150, 3)),\n",
    "    MaxPooling2D(2,2),\n",
    "    \n",
    "    Conv2D(100, (3,3), activation='relu'),\n",
    "    MaxPooling2D(2,2),\n",
    "    \n",
    "    Flatten(),\n",
    "    Dropout(0.5),\n",
    "    Dense(50, activation='relu'),\n",
    "    Dense(2, activation='softmax')\n",
    "])\n",
    "model.compile(optimizer='adam', loss='binary_crossentropy', metrics=['acc'])"
   ]
  },
  {
   "cell_type": "markdown",
   "metadata": {
    "id": "wZiJUnmtKfIO"
   },
   "source": [
    "Initialize a callback checkpoint to keep saving best model after each epoch while training"
   ]
  },
  {
   "cell_type": "code",
   "execution_count": null,
   "metadata": {
    "id": "DWTFaFw6ZjzW"
   },
   "outputs": [],
   "source": [
    "checkpoint = ModelCheckpoint('model2-{epoch:03d}.model',monitor='val_loss',verbose=0,save_best_only=True,mode='auto')"
   ]
  },
  {
   "cell_type": "markdown",
   "metadata": {
    "id": "W4teUqpQKjmz"
   },
   "source": [
    "*Train the model*"
   ]
  },
  {
   "cell_type": "code",
   "execution_count": null,
   "metadata": {
    "colab": {
     "base_uri": "https://localhost:8080/"
    },
    "id": "93JljOMeZvfS",
    "outputId": "19b7be66-1d5c-4568-f27f-77d92344c942"
   },
   "outputs": [
    {
     "name": "stderr",
     "output_type": "stream",
     "text": [
      "/usr/local/lib/python3.6/dist-packages/tensorflow/python/keras/engine/training.py:1844: UserWarning: `Model.fit_generator` is deprecated and will be removed in a future version. Please use `Model.fit`, which supports generators.\n",
      "  warnings.warn('`Model.fit_generator` is deprecated and '\n"
     ]
    },
    {
     "name": "stdout",
     "output_type": "stream",
     "text": [
      "Epoch 1/10\n",
      "132/132 [==============================] - 14s 105ms/step - loss: 0.8306 - acc: 0.4674 - val_loss: 0.6930 - val_acc: 0.5000\n",
      "INFO:tensorflow:Assets written to: model2-001.model/assets\n",
      "Epoch 2/10\n",
      "132/132 [==============================] - 14s 103ms/step - loss: 0.6755 - acc: 0.5688 - val_loss: 0.6900 - val_acc: 0.5103\n",
      "INFO:tensorflow:Assets written to: model2-002.model/assets\n",
      "Epoch 3/10\n",
      "132/132 [==============================] - 14s 102ms/step - loss: 0.6635 - acc: 0.5851 - val_loss: 0.2133 - val_acc: 0.9072\n",
      "INFO:tensorflow:Assets written to: model2-003.model/assets\n",
      "Epoch 4/10\n",
      "132/132 [==============================] - 13s 101ms/step - loss: 0.3453 - acc: 0.8416 - val_loss: 0.1951 - val_acc: 0.9639\n",
      "INFO:tensorflow:Assets written to: model2-004.model/assets\n",
      "Epoch 5/10\n",
      "132/132 [==============================] - 13s 101ms/step - loss: 0.2614 - acc: 0.8960 - val_loss: 0.1759 - val_acc: 0.9175\n",
      "INFO:tensorflow:Assets written to: model2-005.model/assets\n",
      "Epoch 6/10\n",
      "132/132 [==============================] - 13s 100ms/step - loss: 0.2764 - acc: 0.8936 - val_loss: 0.0777 - val_acc: 0.9639\n",
      "INFO:tensorflow:Assets written to: model2-006.model/assets\n",
      "Epoch 7/10\n",
      "132/132 [==============================] - 13s 100ms/step - loss: 0.2091 - acc: 0.9227 - val_loss: 0.0744 - val_acc: 0.9742\n",
      "INFO:tensorflow:Assets written to: model2-007.model/assets\n",
      "Epoch 8/10\n",
      "132/132 [==============================] - 13s 101ms/step - loss: 0.1933 - acc: 0.9355 - val_loss: 0.1085 - val_acc: 0.9536\n",
      "Epoch 9/10\n",
      "132/132 [==============================] - 13s 102ms/step - loss: 0.1974 - acc: 0.9284 - val_loss: 0.0648 - val_acc: 0.9639\n",
      "INFO:tensorflow:Assets written to: model2-009.model/assets\n",
      "Epoch 10/10\n",
      "132/132 [==============================] - 13s 100ms/step - loss: 0.1663 - acc: 0.9381 - val_loss: 0.0667 - val_acc: 0.9742\n"
     ]
    }
   ],
   "source": [
    "history = model.fit_generator(train_generator,\n",
    "                              epochs=10,\n",
    "                              validation_data=validation_generator,\n",
    "                              callbacks=[checkpoint])"
   ]
  },
  {
   "cell_type": "code",
   "execution_count": null,
   "metadata": {
    "id": "GovSIih_ZzjO"
   },
   "outputs": [],
   "source": []
  }
 ],
 "metadata": {
  "accelerator": "GPU",
  "colab": {
   "collapsed_sections": [],
   "name": "Mask_Detection.ipynb",
   "provenance": []
  },
  "kernelspec": {
   "display_name": "Python 3",
   "language": "python",
   "name": "python3"
  },
  "language_info": {
   "codemirror_mode": {
    "name": "ipython",
    "version": 3
   },
   "file_extension": ".py",
   "mimetype": "text/x-python",
   "name": "python",
   "nbconvert_exporter": "python",
   "pygments_lexer": "ipython3",
   "version": "3.7.4"
  }
 },
 "nbformat": 4,
 "nbformat_minor": 1
}
